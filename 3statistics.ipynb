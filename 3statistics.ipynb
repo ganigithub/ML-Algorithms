{
 "cells": [
  {
   "cell_type": "markdown",
   "id": "2f0f4931",
   "metadata": {},
   "source": [
    "### statistics"
   ]
  },
  {
   "cell_type": "code",
   "execution_count": 22,
   "id": "f5812321",
   "metadata": {},
   "outputs": [],
   "source": [
    "import numpy as np\n",
    "import pandas as pd"
   ]
  },
  {
   "cell_type": "code",
   "execution_count": 29,
   "id": "01dcad8d",
   "metadata": {},
   "outputs": [
    {
     "data": {
      "text/plain": [
       "3.0"
      ]
     },
     "execution_count": 29,
     "metadata": {},
     "output_type": "execute_result"
    }
   ],
   "source": [
    "arr = np.array([1,2,3,4,5]) \n",
    "\n",
    "mean = np.mean(arr)    #gives mean of data\n",
    "mean"
   ]
  },
  {
   "cell_type": "code",
   "execution_count": 32,
   "id": "54662cb0",
   "metadata": {},
   "outputs": [
    {
     "data": {
      "text/plain": [
       "60.0"
      ]
     },
     "execution_count": 32,
     "metadata": {},
     "output_type": "execute_result"
    }
   ],
   "source": [
    "arr = np.array([20,40,60,80,100])    # midpoint of ordered set if no of values are odd is called median. \n",
    "# if no of values are even, average of middle two values is median\n",
    "\n",
    "median = np.median(arr)   #gives median of data\n",
    "median"
   ]
  },
  {
   "cell_type": "code",
   "execution_count": 41,
   "id": "192953a2",
   "metadata": {},
   "outputs": [
    {
     "data": {
      "text/plain": [
       "2"
      ]
     },
     "execution_count": 41,
     "metadata": {},
     "output_type": "execute_result"
    }
   ],
   "source": [
    "import statistics as stats   #most occuring data in set is mode\n",
    "(stats.mode([1,2,2,2]))    #gives mode of data"
   ]
  },
  {
   "cell_type": "code",
   "execution_count": 48,
   "id": "dd6f3b3c",
   "metadata": {
    "scrolled": false
   },
   "outputs": [
    {
     "name": "stdout",
     "output_type": "stream",
     "text": [
      "2.0\n"
     ]
    },
    {
     "data": {
      "text/plain": [
       "2.5"
      ]
     },
     "execution_count": 48,
     "metadata": {},
     "output_type": "execute_result"
    }
   ],
   "source": [
    "print(np.var([1,2,3,4,5]))        #numpy takes (n) as denominator  var = sum (x - mean)^2 / n\n",
    "\n",
    "# or\n",
    "import statistics\n",
    "from statistics import variance\n",
    "(statistics.variance([1,2,3,4,5]))  #statistics uses denominator as (n-1)   var = sum(x-mean)^2 / (n-1)"
   ]
  },
  {
   "cell_type": "code",
   "execution_count": 49,
   "id": "274f6e7d",
   "metadata": {},
   "outputs": [
    {
     "name": "stdout",
     "output_type": "stream",
     "text": [
      "1.4142135623730951\n"
     ]
    },
    {
     "data": {
      "text/plain": [
       "1.5811388300841898"
      ]
     },
     "execution_count": 49,
     "metadata": {},
     "output_type": "execute_result"
    }
   ],
   "source": [
    "## std deviation is the deviation of data from their mean value\n",
    "#square root of variance is std deviation.\n",
    "\n",
    "print(np.std([1,2,3,4,5]))     \n",
    "\n",
    "# or\n",
    "\n",
    "import statistics\n",
    "from statistics import stdev\n",
    "(statistics.stdev([1,2,3,4,5]))"
   ]
  }
 ],
 "metadata": {
  "kernelspec": {
   "display_name": "Python 3",
   "language": "python",
   "name": "python3"
  },
  "language_info": {
   "codemirror_mode": {
    "name": "ipython",
    "version": 3
   },
   "file_extension": ".py",
   "mimetype": "text/x-python",
   "name": "python",
   "nbconvert_exporter": "python",
   "pygments_lexer": "ipython3",
   "version": "3.8.8"
  }
 },
 "nbformat": 4,
 "nbformat_minor": 5
}
