{
 "cells": [
  {
   "cell_type": "markdown",
   "id": "7cee30d1",
   "metadata": {},
   "source": [
    "### Sentimental Analysis"
   ]
  },
  {
   "cell_type": "markdown",
   "id": "0a369772",
   "metadata": {},
   "source": [
    "We can analyse the sentiment of a statement using TextBlob"
   ]
  },
  {
   "cell_type": "code",
   "execution_count": 2,
   "id": "ac44cd32",
   "metadata": {
    "collapsed": true
   },
   "outputs": [
    {
     "name": "stdout",
     "output_type": "stream",
     "text": [
      "Collecting textblob\n",
      "  Downloading textblob-0.17.1-py2.py3-none-any.whl (636 kB)\n",
      "Requirement already satisfied: nltk>=3.1 in c:\\users\\ganesh\\anaconda3\\lib\\site-packages (from textblob) (3.6.1)\n",
      "Requirement already satisfied: click in c:\\users\\ganesh\\anaconda3\\lib\\site-packages (from nltk>=3.1->textblob) (7.1.2)\n",
      "Requirement already satisfied: regex in c:\\users\\ganesh\\anaconda3\\lib\\site-packages (from nltk>=3.1->textblob) (2021.4.4)\n",
      "Requirement already satisfied: tqdm in c:\\users\\ganesh\\anaconda3\\lib\\site-packages (from nltk>=3.1->textblob) (4.59.0)\n",
      "Requirement already satisfied: joblib in c:\\users\\ganesh\\anaconda3\\lib\\site-packages (from nltk>=3.1->textblob) (1.0.1)\n",
      "Installing collected packages: textblob\n",
      "Successfully installed textblob-0.17.1\n",
      "Note: you may need to restart the kernel to use updated packages.\n"
     ]
    }
   ],
   "source": [
    "#pip install textblob"
   ]
  },
  {
   "cell_type": "code",
   "execution_count": 3,
   "id": "97007cea",
   "metadata": {},
   "outputs": [],
   "source": [
    "from textblob import TextBlob"
   ]
  },
  {
   "cell_type": "code",
   "execution_count": 11,
   "id": "1bddd4b4",
   "metadata": {},
   "outputs": [
    {
     "name": "stdout",
     "output_type": "stream",
     "text": [
      "Sentiment(polarity=0.7, subjectivity=0.6000000000000001)\n"
     ]
    }
   ],
   "source": [
    "text1 = TextBlob('Food is really good')\n",
    "print(text1.sentiment)\n",
    "\n",
    "#polarity is close to 1 for +ve statement and close to -1 for -ve statement"
   ]
  },
  {
   "cell_type": "code",
   "execution_count": 17,
   "id": "5ace9908",
   "metadata": {},
   "outputs": [
    {
     "name": "stdout",
     "output_type": "stream",
     "text": [
      "Sentiment(polarity=-0.9099999999999998, subjectivity=0.8666666666666667)\n"
     ]
    }
   ],
   "source": [
    "text2 = TextBlob('The movie was very bad')\n",
    "print(text2.sentiment)"
   ]
  },
  {
   "cell_type": "code",
   "execution_count": 13,
   "id": "1e61d0b2",
   "metadata": {},
   "outputs": [
    {
     "name": "stdout",
     "output_type": "stream",
     "text": [
      "Sentiment(polarity=5.551115123125783e-17, subjectivity=0.6333333333333333)\n"
     ]
    }
   ],
   "source": [
    "text3 = TextBlob('I dont know if movie was good or bad')\n",
    "print(text3.sentiment)"
   ]
  },
  {
   "cell_type": "code",
   "execution_count": 28,
   "id": "4a3af167",
   "metadata": {},
   "outputs": [
    {
     "name": "stdout",
     "output_type": "stream",
     "text": [
      "Sentiment(polarity=0.0, subjectivity=0.0)\n"
     ]
    }
   ],
   "source": [
    "text4 = TextBlob('I think he went to school')\n",
    "print(text4.sentiment)"
   ]
  },
  {
   "cell_type": "code",
   "execution_count": 23,
   "id": "99c55eaa",
   "metadata": {},
   "outputs": [
    {
     "name": "stdout",
     "output_type": "stream",
     "text": [
      "Sentiment(polarity=-0.26923076923076916, subjectivity=0.46153846153846156)\n"
     ]
    }
   ],
   "source": [
    "text5 = TextBlob('I think your day was not very good.')\n",
    "print(text5.sentiment)"
   ]
  },
  {
   "cell_type": "code",
   "execution_count": 33,
   "id": "980b691c",
   "metadata": {},
   "outputs": [
    {
     "name": "stdout",
     "output_type": "stream",
     "text": [
      "Sentiment(polarity=0.0, subjectivity=0.0)\n"
     ]
    }
   ],
   "source": [
    "text6 = TextBlob('god is not there')\n",
    "print(text6.sentiment)"
   ]
  },
  {
   "cell_type": "code",
   "execution_count": null,
   "id": "2532fb87",
   "metadata": {},
   "outputs": [],
   "source": []
  }
 ],
 "metadata": {
  "kernelspec": {
   "display_name": "Python 3 (ipykernel)",
   "language": "python",
   "name": "python3"
  },
  "language_info": {
   "codemirror_mode": {
    "name": "ipython",
    "version": 3
   },
   "file_extension": ".py",
   "mimetype": "text/x-python",
   "name": "python",
   "nbconvert_exporter": "python",
   "pygments_lexer": "ipython3",
   "version": "3.9.7"
  }
 },
 "nbformat": 4,
 "nbformat_minor": 5
}
