{
 "cells": [
  {
   "cell_type": "markdown",
   "id": "0afc9d3f",
   "metadata": {},
   "source": [
    "## Word Cloud"
   ]
  },
  {
   "cell_type": "code",
   "execution_count": null,
   "id": "b23db6f8",
   "metadata": {},
   "outputs": [],
   "source": [
    "#pip install wikipedia"
   ]
  },
  {
   "cell_type": "code",
   "execution_count": null,
   "id": "ea5a72c3",
   "metadata": {},
   "outputs": [],
   "source": [
    "import wikipedia\n",
    "import re \n",
    "# A RegEx, or Regular Expression, is a sequence of characters that forms a search pattern.\n",
    "# RegEx can be used to check if a string contains the specified search pattern."
   ]
  },
  {
   "cell_type": "markdown",
   "id": "34e777a9",
   "metadata": {},
   "source": [
    "### 1. as our sample text, we will use scraped text from a wikipedia page on 'Web scraping'\n"
   ]
  },
  {
   "cell_type": "code",
   "execution_count": null,
   "id": "4ba9c360",
   "metadata": {},
   "outputs": [],
   "source": [
    "#specify the title of the wikipedia page\n",
    "wiki = wikipedia.page('Web scraping')"
   ]
  },
  {
   "cell_type": "code",
   "execution_count": null,
   "id": "3ee1f89c",
   "metadata": {},
   "outputs": [],
   "source": [
    "#Extract the plain text content of the page\n",
    "text = wiki.content\n",
    "print(text)"
   ]
  },
  {
   "cell_type": "code",
   "execution_count": null,
   "id": "79d6997b",
   "metadata": {},
   "outputs": [],
   "source": [
    "#clean text\n",
    "\n",
    "text = re.sub(r'==.*?==+', '', text)  #here the paragraphs are removed and continuous text is created.\n",
    "print(text)                           #but instead of new paragraphs, \\n is there. we have to remove that"
   ]
  },
  {
   "cell_type": "code",
   "execution_count": null,
   "id": "f09ea38c",
   "metadata": {},
   "outputs": [],
   "source": [
    "#removing \\n\n",
    "text = text.replace('\\n', '')\n",
    "print(text)"
   ]
  },
  {
   "cell_type": "markdown",
   "id": "44a57342",
   "metadata": {},
   "source": [
    "### 2. Word cloud: Firstly, let's prepare a function that plots our word cloud:"
   ]
  },
  {
   "cell_type": "code",
   "execution_count": null,
   "id": "c4c2630a",
   "metadata": {},
   "outputs": [],
   "source": [
    "import matplotlib.pyplot as plt"
   ]
  },
  {
   "cell_type": "code",
   "execution_count": null,
   "id": "c504184d",
   "metadata": {},
   "outputs": [],
   "source": [
    "#define a function to plot word cloud\n",
    "\n",
    "def plot_cloud(wordcloud):\n",
    "    plt.figure(figsize = (40,30))\n",
    "    \n",
    "    # Display image (image show)\n",
    "    plt.imshow(wordcloud)\n",
    "    \n",
    "    # No axis details\n",
    "    plt.axis('off');\n",
    "    plt.show()"
   ]
  },
  {
   "cell_type": "markdown",
   "id": "ab172bee",
   "metadata": {},
   "source": [
    "### Secondly, let's create our first word cloud and plot it:"
   ]
  },
  {
   "cell_type": "code",
   "execution_count": null,
   "id": "26c9de5a",
   "metadata": {},
   "outputs": [],
   "source": [
    "#pip install wordcloud"
   ]
  },
  {
   "cell_type": "code",
   "execution_count": null,
   "id": "b6be1a1b",
   "metadata": {},
   "outputs": [],
   "source": [
    "from wordcloud import WordCloud, STOPWORDS"
   ]
  },
  {
   "cell_type": "code",
   "execution_count": null,
   "id": "a0e78310",
   "metadata": {},
   "outputs": [],
   "source": [
    "wordcloud = WordCloud(width = 3000, height = 2000, random_state = 1, background_color = 'salmon',\n",
    "                     colormap = 'Pastel1', collocations = False, stopwords = STOPWORDS).generate(text)\n",
    "\n",
    "#collocations = False will remove the words that are frequently grouped together in text\n",
    "#stopwords = STOPWORDS will eliminate the unwanted words like is, the, it, etc\n",
    "#all the parameters above are not necessary. WordCloud().generate(text) will also work\n",
    "\n",
    "plot_cloud(wordcloud)"
   ]
  },
  {
   "cell_type": "code",
   "execution_count": null,
   "id": "bfd17a4b",
   "metadata": {},
   "outputs": [],
   "source": []
  },
  {
   "cell_type": "code",
   "execution_count": null,
   "id": "4009f4f8",
   "metadata": {},
   "outputs": [],
   "source": []
  }
 ],
 "metadata": {
  "kernelspec": {
   "display_name": "Python 3",
   "language": "python",
   "name": "python3"
  },
  "language_info": {
   "codemirror_mode": {
    "name": "ipython",
    "version": 3
   },
   "file_extension": ".py",
   "mimetype": "text/x-python",
   "name": "python",
   "nbconvert_exporter": "python",
   "pygments_lexer": "ipython3",
   "version": "3.8.8"
  }
 },
 "nbformat": 4,
 "nbformat_minor": 5
}
