{
 "cells": [
  {
   "attachments": {
    "image.png": {
     "image/png": "[encoded data removed]"
    }
   },
   "cell_type": "markdown",
   "id": "e19c4b72",
   "metadata": {},
   "source": [
    "## Naive Bayes Algorithm\n",
    "\n",
    "It is a classification technique based on Bayes' Theorem with an assumption of independence among predictors. In simple terms, a Naive Bayes classifier assumes that the presence of a particular feature in a class is unrelated to the presence of any other feature.\n",
    "\n",
    "![image.png](attachment:image.png)\n",
    "\n",
    "Problem: Players will play if weather is sunny. Is this statement is correct?\n",
    "\n",
    "We can solve it using above discussed method of posterior probability.\n",
    "\n",
    "P(Yes | Sunny) = P(Sunny | Yes) * P(Yes) / P (Sunny)\n",
    "\n",
    "Here we have; P (Sunny | Yes) = 3/9 = 0.33,\n",
    "              P(Sunny) = 5/14 = 0.36, \n",
    "              P(Yes)= 9/14 = 0.64\n",
    "\n",
    "Now, P (Yes | Sunny) = 0.33 * 0.64 / 0.36 = 0.60, which has higher probability.\n",
    "\n",
    "Naive Bayes uses a similar method to predict the probability of different class based on various attributes. This algorithm is mostly used in text classification and with problems having multiple classes."
   ]
  },
  {
   "cell_type": "code",
   "execution_count": 21,
   "id": "72ca258e",
   "metadata": {},
   "outputs": [],
   "source": [
    "import pandas as pd\n",
    "import numpy as np\n",
    "import matplotlib.pyplot as plt\n",
    "%matplotlib inline\n",
    "import seaborn as sns\n"
   ]
  },
  {
   "cell_type": "code",
   "execution_count": 10,
   "id": "800a2870",
   "metadata": {},
   "outputs": [],
   "source": [
    "db = pd.read_csv('pima-indians-diabetes-2.csv')"
   ]
  },
  {
   "cell_type": "code",
   "execution_count": 11,
   "id": "c5172481",
   "metadata": {},
   "outputs": [
    {
     "data": {
      "text/html": [
       "<div>\n",
       "<style scoped>\n",
       "    .dataframe tbody tr th:only-of-type {\n",
       "        vertical-align: middle;\n",
       "    }\n",
       "\n",
       "    .dataframe tbody tr th {\n",
       "        vertical-align: top;\n",
       "    }\n",
       "\n",
       "    .dataframe thead th {\n",
       "        text-align: right;\n",
       "    }\n",
       "</style>\n",
       "<table border=\"1\" class=\"dataframe\">\n",
       "  <thead>\n",
       "    <tr style=\"text-align: right;\">\n",
       "      <th></th>\n",
       "      <th>Preg</th>\n",
       "      <th>Plas</th>\n",
       "      <th>Pres</th>\n",
       "      <th>skin</th>\n",
       "      <th>test</th>\n",
       "      <th>mass</th>\n",
       "      <th>pedi</th>\n",
       "      <th>age</th>\n",
       "    </tr>\n",
       "  </thead>\n",
       "  <tbody>\n",
       "    <tr>\n",
       "      <th>350</th>\n",
       "      <td>4</td>\n",
       "      <td>92</td>\n",
       "      <td>80</td>\n",
       "      <td>0</td>\n",
       "      <td>0</td>\n",
       "      <td>42.2</td>\n",
       "      <td>0.237</td>\n",
       "      <td>29</td>\n",
       "    </tr>\n",
       "    <tr>\n",
       "      <th>449</th>\n",
       "      <td>0</td>\n",
       "      <td>120</td>\n",
       "      <td>74</td>\n",
       "      <td>18</td>\n",
       "      <td>63</td>\n",
       "      <td>30.5</td>\n",
       "      <td>0.285</td>\n",
       "      <td>26</td>\n",
       "    </tr>\n",
       "    <tr>\n",
       "      <th>132</th>\n",
       "      <td>3</td>\n",
       "      <td>170</td>\n",
       "      <td>64</td>\n",
       "      <td>37</td>\n",
       "      <td>225</td>\n",
       "      <td>34.5</td>\n",
       "      <td>0.356</td>\n",
       "      <td>30</td>\n",
       "    </tr>\n",
       "    <tr>\n",
       "      <th>626</th>\n",
       "      <td>0</td>\n",
       "      <td>125</td>\n",
       "      <td>68</td>\n",
       "      <td>0</td>\n",
       "      <td>0</td>\n",
       "      <td>24.7</td>\n",
       "      <td>0.206</td>\n",
       "      <td>21</td>\n",
       "    </tr>\n",
       "    <tr>\n",
       "      <th>50</th>\n",
       "      <td>1</td>\n",
       "      <td>103</td>\n",
       "      <td>80</td>\n",
       "      <td>11</td>\n",
       "      <td>82</td>\n",
       "      <td>19.4</td>\n",
       "      <td>0.491</td>\n",
       "      <td>22</td>\n",
       "    </tr>\n",
       "  </tbody>\n",
       "</table>\n",
       "</div>"
      ],
      "text/plain": [
       "     Preg  Plas  Pres  skin  test  mass   pedi  age\n",
       "350     4    92    80     0     0  42.2  0.237   29\n",
       "449     0   120    74    18    63  30.5  0.285   26\n",
       "132     3   170    64    37   225  34.5  0.356   30\n",
       "626     0   125    68     0     0  24.7  0.206   21\n",
       "50      1   103    80    11    82  19.4  0.491   22"
      ]
     },
     "execution_count": 11,
     "metadata": {},
     "output_type": "execute_result"
    }
   ],
   "source": [
    "from sklearn.model_selection import train_test_split\n",
    "\n",
    "x = db.drop('class', axis=1)\n",
    "y = db['class']\n",
    "\n",
    "x_train, x_test, y_train, y_test = train_test_split(x, y, test_size = 0.30)\n",
    "x_train.head()"
   ]
  },
  {
   "cell_type": "markdown",
   "id": "aa79e80d",
   "metadata": {},
   "source": [
    "### Train Naive Bayes Algorithm"
   ]
  },
  {
   "cell_type": "code",
   "execution_count": 15,
   "id": "6b0c6ecb",
   "metadata": {},
   "outputs": [
    {
     "data": {
      "text/plain": [
       "GaussianNB()"
      ]
     },
     "execution_count": 15,
     "metadata": {},
     "output_type": "execute_result"
    }
   ],
   "source": [
    "from sklearn.naive_bayes import GaussianNB  #using Gaussian algorithm from Naive Bayes\n",
    "\n",
    "#create model\n",
    "diab_model = GaussianNB()\n",
    "\n",
    "diab_model.fit(x_train, y_train)"
   ]
  },
  {
   "cell_type": "markdown",
   "id": "41ce2031",
   "metadata": {},
   "source": [
    "### Performance of model with training data"
   ]
  },
  {
   "cell_type": "code",
   "execution_count": 17,
   "id": "f0b04471",
   "metadata": {},
   "outputs": [
    {
     "name": "stdout",
     "output_type": "stream",
     "text": [
      "model accuracy: 0.7803\n",
      "\n"
     ]
    }
   ],
   "source": [
    "diab_train_predict = diab_model.predict(x_train)\n",
    "\n",
    "from sklearn import metrics\n",
    "\n",
    "print('model accuracy: {0:.4f}'.format(metrics.accuracy_score(y_train, diab_train_predict)))\n",
    "print()"
   ]
  },
  {
   "cell_type": "markdown",
   "id": "5dd11add",
   "metadata": {},
   "source": [
    "### Performance of model with testing data"
   ]
  },
  {
   "cell_type": "code",
   "execution_count": 18,
   "id": "840ca461",
   "metadata": {},
   "outputs": [
    {
     "name": "stdout",
     "output_type": "stream",
     "text": [
      "model accuracy: 0.7532\n",
      "\n"
     ]
    }
   ],
   "source": [
    "diab_test_predict = diab_model.predict(x_test)\n",
    "\n",
    "from sklearn import metrics\n",
    "\n",
    "print('model accuracy: {0:.4f}'.format(metrics.accuracy_score(y_test, diab_test_predict)))\n",
    "print()"
   ]
  },
  {
   "cell_type": "code",
   "execution_count": 19,
   "id": "93019452",
   "metadata": {},
   "outputs": [
    {
     "name": "stdout",
     "output_type": "stream",
     "text": [
      "Confusion matrix\n"
     ]
    },
    {
     "data": {
      "text/plain": [
       "<AxesSubplot:>"
      ]
     },
     "execution_count": 19,
     "metadata": {},
     "output_type": "execute_result"
    },
    {
     "data": {
      "image/png": "[encoded data removed]",
      "text/plain": [
       "<Figure size 720x360 with 2 Axes>"
      ]
     },
     "metadata": {
      "needs_background": "light"
     },
     "output_type": "display_data"
    }
   ],
   "source": [
    "#confusion matrix\n",
    "\n",
    "print('Confusion matrix')\n",
    "\n",
    "cm = metrics.confusion_matrix(y_test, diab_test_predict, labels=[1,0])\n",
    "\n",
    "df_cm = pd.DataFrame(cm, index = [i for i in ['1', '0']],\n",
    "                    columns = [i for i in ['Predict 1', 'Predict 0']])\n",
    "\n",
    "plt.figure(figsize = (10, 5))\n",
    "sns.heatmap(df_cm, annot=True)"
   ]
  },
  {
   "cell_type": "code",
   "execution_count": 20,
   "id": "0769bc42",
   "metadata": {},
   "outputs": [
    {
     "name": "stdout",
     "output_type": "stream",
     "text": [
      "Classification Report\n",
      "              precision    recall  f1-score   support\n",
      "\n",
      "           1       0.70      0.52      0.60        81\n",
      "           0       0.77      0.88      0.82       150\n",
      "\n",
      "    accuracy                           0.75       231\n",
      "   macro avg       0.74      0.70      0.71       231\n",
      "weighted avg       0.75      0.75      0.74       231\n",
      "\n"
     ]
    }
   ],
   "source": [
    "#classification report\n",
    "\n",
    "print('Classification Report')\n",
    "print(metrics.classification_report(y_test, diab_test_predict, labels=[1,0]))"
   ]
  },
  {
   "cell_type": "code",
   "execution_count": null,
   "id": "0ff3bc31",
   "metadata": {},
   "outputs": [],
   "source": []
  }
 ],
 "metadata": {
  "kernelspec": {
   "display_name": "Python 3",
   "language": "python",
   "name": "python3"
  },
  "language_info": {
   "codemirror_mode": {
    "name": "ipython",
    "version": 3
   },
   "file_extension": ".py",
   "mimetype": "text/x-python",
   "name": "python",
   "nbconvert_exporter": "python",
   "pygments_lexer": "ipython3",
   "version": "3.8.8"
  }
 },
 "nbformat": 4,
 "nbformat_minor": 5
}
